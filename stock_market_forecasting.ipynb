{
 "cells": [
  {
   "cell_type": "code",
   "execution_count": 35,
   "metadata": {},
   "outputs": [],
   "source": [
    "import pandas as pd\n",
    "import numpy as np\n",
    "import matplotlib.pyplot as plt\n",
    "import matplotlib.dates as mdates\n",
    "import matplotlib.cbook as cbook\n",
    "from scipy import interpolate\n",
    "from statsmodels.tsa.holtwinters import ExponentialSmoothing, SimpleExpSmoothing\n",
    "from scipy import stats\n",
    "import seaborn as sns\n",
    "from sklearn.linear_model import LinearRegression\n",
    "from sklearn.metrics import r2_score, mean_absolute_error, mean_squared_error\n",
    "from sklearn.model_selection import train_test_split\n",
    "from scipy.linalg import norm\n",
    "from pandas.plotting import autocorrelation_plot\n",
    "from statsmodels.graphics.tsaplots import plot_acf, plot_pacf\n",
    "from statsmodels.tsa.arima.model import ARIMA, ARIMAResults\n",
    "import statsmodels.api as sm\n",
    "from pandas import DataFrame\n",
    "%matplotlib inline"
   ]
  },
  {
   "cell_type": "code",
   "execution_count": 13,
   "metadata": {},
   "outputs": [],
   "source": [
    "# Loading data\n",
    "path = 'raw/AMZN_stock_market_data.csv'\n",
    "price_data = pd.read_csv(path, parse_dates = ['Date'])"
   ]
  },
  {
   "cell_type": "code",
   "execution_count": 14,
   "metadata": {},
   "outputs": [
    {
     "data": {
      "text/html": [
       "<div>\n",
       "<style scoped>\n",
       "    .dataframe tbody tr th:only-of-type {\n",
       "        vertical-align: middle;\n",
       "    }\n",
       "\n",
       "    .dataframe tbody tr th {\n",
       "        vertical-align: top;\n",
       "    }\n",
       "\n",
       "    .dataframe thead th {\n",
       "        text-align: right;\n",
       "    }\n",
       "</style>\n",
       "<table border=\"1\" class=\"dataframe\">\n",
       "  <thead>\n",
       "    <tr style=\"text-align: right;\">\n",
       "      <th></th>\n",
       "      <th>Date</th>\n",
       "      <th>Open</th>\n",
       "      <th>High</th>\n",
       "      <th>Low</th>\n",
       "      <th>Close</th>\n",
       "      <th>Adj Close</th>\n",
       "      <th>Volume</th>\n",
       "    </tr>\n",
       "  </thead>\n",
       "  <tbody>\n",
       "    <tr>\n",
       "      <th>1274</th>\n",
       "      <td>2019-01-25</td>\n",
       "      <td>1670.500000</td>\n",
       "      <td>1683.479980</td>\n",
       "      <td>1661.609985</td>\n",
       "      <td>1670.569946</td>\n",
       "      <td>1670.569946</td>\n",
       "      <td>4945900</td>\n",
       "    </tr>\n",
       "    <tr>\n",
       "      <th>1275</th>\n",
       "      <td>2019-01-28</td>\n",
       "      <td>1643.589966</td>\n",
       "      <td>1645.000000</td>\n",
       "      <td>1614.089966</td>\n",
       "      <td>1637.890015</td>\n",
       "      <td>1637.890015</td>\n",
       "      <td>4837700</td>\n",
       "    </tr>\n",
       "    <tr>\n",
       "      <th>1276</th>\n",
       "      <td>2019-01-29</td>\n",
       "      <td>1631.270020</td>\n",
       "      <td>1632.380005</td>\n",
       "      <td>1590.719971</td>\n",
       "      <td>1593.880005</td>\n",
       "      <td>1593.880005</td>\n",
       "      <td>4632800</td>\n",
       "    </tr>\n",
       "    <tr>\n",
       "      <th>1277</th>\n",
       "      <td>2019-01-30</td>\n",
       "      <td>1623.000000</td>\n",
       "      <td>1676.949951</td>\n",
       "      <td>1619.680054</td>\n",
       "      <td>1670.430054</td>\n",
       "      <td>1670.430054</td>\n",
       "      <td>5783800</td>\n",
       "    </tr>\n",
       "    <tr>\n",
       "      <th>1278</th>\n",
       "      <td>2019-01-31</td>\n",
       "      <td>1692.849976</td>\n",
       "      <td>1736.410034</td>\n",
       "      <td>1679.079956</td>\n",
       "      <td>1718.729980</td>\n",
       "      <td>1718.729980</td>\n",
       "      <td>10910300</td>\n",
       "    </tr>\n",
       "  </tbody>\n",
       "</table>\n",
       "</div>"
      ],
      "text/plain": [
       "           Date         Open         High          Low        Close  \\\n",
       "1274 2019-01-25  1670.500000  1683.479980  1661.609985  1670.569946   \n",
       "1275 2019-01-28  1643.589966  1645.000000  1614.089966  1637.890015   \n",
       "1276 2019-01-29  1631.270020  1632.380005  1590.719971  1593.880005   \n",
       "1277 2019-01-30  1623.000000  1676.949951  1619.680054  1670.430054   \n",
       "1278 2019-01-31  1692.849976  1736.410034  1679.079956  1718.729980   \n",
       "\n",
       "        Adj Close    Volume  \n",
       "1274  1670.569946   4945900  \n",
       "1275  1637.890015   4837700  \n",
       "1276  1593.880005   4632800  \n",
       "1277  1670.430054   5783800  \n",
       "1278  1718.729980  10910300  "
      ]
     },
     "execution_count": 14,
     "metadata": {},
     "output_type": "execute_result"
    }
   ],
   "source": [
    "price_data.tail()"
   ]
  },
  {
   "cell_type": "code",
   "execution_count": 6,
   "metadata": {},
   "outputs": [
    {
     "data": {
      "text/plain": [
       "Text(0, 0.5, 'Stock price')"
      ]
     },
     "execution_count": 6,
     "metadata": {},
     "output_type": "execute_result"
    },
    {
     "data": {
      "image/png": "[encoded data removed]",
      "text/plain": [
       "<Figure size 432x288 with 1 Axes>"
      ]
     },
     "metadata": {
      "needs_background": "light"
     },
     "output_type": "display_data"
    }
   ],
   "source": [
    "# Plotting open Amazon stock prices \n",
    "plt.plot(price_data.loc[0:len(price_data),'Open'])\n",
    "plt.title('Amazon stock market price')\n",
    "plt.xlabel('Days')\n",
    "plt.ylabel('Stock price') \n"
   ]
  },
  {
   "cell_type": "code",
   "execution_count": 25,
   "metadata": {},
   "outputs": [
    {
     "data": {
      "image/png": "[encoded data removed]",
      "text/plain": [
       "<Figure size 720x576 with 1 Axes>"
      ]
     },
     "metadata": {
      "needs_background": "light"
     },
     "output_type": "display_data"
    }
   ],
   "source": [
    "# Plotting open Amazon stock prices \n",
    "fig, ax = plt.subplots(figsize = (10,8))\n",
    "ax.plot('Date', 'Open', data=price_data)\n",
    "\n",
    "# Major ticks every 6 months.\n",
    "fmt_half_year = mdates.MonthLocator(interval=6)\n",
    "ax.xaxis.set_major_locator(fmt_half_year)\n",
    "\n",
    "# Minor ticks every month.\n",
    "fmt_month = mdates.MonthLocator()\n",
    "ax.xaxis.set_minor_locator(fmt_month)\n",
    "\n",
    "# Text in the x axis will be displayed in 'YYYY-mm' format.\n",
    "ax.xaxis.set_major_formatter(mdates.DateFormatter('%Y-%m'))\n",
    "\n",
    "# Round to nearest years.\n",
    "datemin = np.datetime64(price_data.Date.iloc[0], 'Y')\n",
    "datemax = np.datetime64(price_data.Date.iloc[-1], 'Y') + np.timedelta64(1, 'Y')\n",
    "ax.set_xlim(datemin, datemax)\n",
    "\n",
    "# Format the coords message box, i.e. the numbers displayed as the cursor moves\n",
    "# across the axes within the interactive GUI.\n",
    "ax.format_xdata = mdates.DateFormatter('%Y-%m')\n",
    "ax.format_ydata = lambda x: f'${x:.2f}'  # Format the price.\n",
    "ax.grid(True)\n",
    "\n",
    "# Rotates and right aligns the x labels, and moves the bottom of the\n",
    "# axes up to make room for them.\n",
    "fig.autofmt_xdate()\n",
    "\n",
    "plt.title('Amazon stock market price (Open)')\n",
    "plt.xlabel('Date')\n",
    "plt.ylabel('Stock price') \n",
    "\n",
    "plt.show()\n"
   ]
  },
  {
   "cell_type": "code",
   "execution_count": 45,
   "metadata": {},
   "outputs": [],
   "source": [
    "mad_open = price_data.Open.mad()\n",
    "median_open= price_data.Open.median()\n",
    "\n",
    "mad = lambda x: np.fabs(x - x.mean()).mean()\n",
    "price_data['Open_Rolling_mad']=price_data['Open'].rolling(window=60, center=True).apply(mad)\n",
    "#60-day standard deviation \n",
    "price_data['Open_Rolling_Med']=price_data['Open'].rolling(window=60, center=True).median()\n",
    "#Detect anomalies by determining how far away from the mean (in terms of standard deviation)\n",
    "#each data point is\n",
    "price_data['Open_LP_Anomaly']=(abs(price_data.Open - price_data.Open_Rolling_Med)/ price_data.Open_Rolling_mad)>3\n"
   ]
  },
  {
   "cell_type": "code",
   "execution_count": 47,
   "metadata": {},
   "outputs": [
    {
     "data": {
      "image/png": "[encoded data removed]",
      "text/plain": [
       "<Figure size 720x576 with 1 Axes>"
      ]
     },
     "metadata": {
      "needs_background": "light"
     },
     "output_type": "display_data"
    }
   ],
   "source": [
    "# Plotting open Amazon stock prices with outliers\n",
    "fig, ax = plt.subplots(figsize = (10,8))\n",
    "ax.plot('Date', 'Open', data=price_data)\n",
    "\n",
    "# Major ticks every 6 months.\n",
    "fmt_half_year = mdates.MonthLocator(interval=6)\n",
    "ax.xaxis.set_major_locator(fmt_half_year)\n",
    "\n",
    "# Minor ticks every month.\n",
    "fmt_month = mdates.MonthLocator()\n",
    "ax.xaxis.set_minor_locator(fmt_month)\n",
    "\n",
    "# Text in the x axis will be displayed in 'YYYY-mm' format.\n",
    "ax.xaxis.set_major_formatter(mdates.DateFormatter('%Y-%m'))\n",
    "\n",
    "# Round to nearest years.\n",
    "datemin = np.datetime64(price_data.Date.iloc[0], 'Y')\n",
    "datemax = np.datetime64(price_data.Date.iloc[-1], 'Y') + np.timedelta64(1, 'Y')\n",
    "ax.set_xlim(datemin, datemax)\n",
    "\n",
    "# Format the coords message box, i.e. the numbers displayed as the cursor moves\n",
    "# across the axes within the interactive GUI.\n",
    "ax.format_xdata = mdates.DateFormatter('%Y-%m')\n",
    "ax.format_ydata = lambda x: f'${x:.2f}'  # Format the price.\n",
    "ax.grid(True)\n",
    "\n",
    "# Rotates and right aligns the x labels, and moves the bottom of the\n",
    "# axes up to make room for them.\n",
    "fig.autofmt_xdate()\n",
    "\n",
    "plt.scatter(price_data.Date[price_data['Open_LP_Anomaly']], price_data.Open[price_data['Open_LP_Anomaly']],color='red')\n",
    "\n",
    "ax.legend(['Open price', ''])\n",
    "plt.title('Amazon stock market price (Open)')\n",
    "plt.xlabel('Date')\n",
    "plt.ylabel('Stock price') \n",
    "\n",
    "plt.show()\n"
   ]
  },
  {
   "cell_type": "code",
   "execution_count": 5,
   "metadata": {},
   "outputs": [
    {
     "data": {
      "image/png": "[encoded data removed]",
      "text/plain": [
       "<Figure size 432x288 with 1 Axes>"
      ]
     },
     "metadata": {
      "needs_background": "light"
     },
     "output_type": "display_data"
    }
   ],
   "source": [
    "# Plotting autocorrelation function of time-series data\n",
    "Open_prices=price_data['Open']\n",
    "\n",
    "# Computing critical threshold\n",
    "thres_ACF=2/np.sqrt(len(Open_prices))\n",
    "\n",
    "# Plotting autocorrelation function\n",
    "lags_list=[x for x in range(0,len(Open_prices))]\n",
    "plot_acf(Open_prices, lags=lags_list)\n",
    "plt.axhline(y=thres_ACF, color='r', linestyle='-')\n",
    "plt.xlabel('Lags')\n",
    "plt.ylabel('ACF') \n",
    "plt.show()"
   ]
  },
  {
   "cell_type": "code",
   "execution_count": 56,
   "metadata": {},
   "outputs": [
    {
     "data": {
      "image/png": "[encoded data removed]",
      "text/plain": [
       "<Figure size 432x288 with 1 Axes>"
      ]
     },
     "metadata": {
      "needs_background": "light"
     },
     "output_type": "display_data"
    }
   ],
   "source": [
    "# Plotting partial autocorrelation function of time-series data\n",
    "Open_prices=price_data['Open']\n",
    "\n",
    "# Computing critical threshold\n",
    "thres_ACF=2/np.sqrt(len(Open_prices))\n",
    "n=int(len(Open_prices)/10)  # number of lags\n",
    "\n",
    "# Loading stock prices\n",
    "Open_prices=price_data['Open']\n",
    "lags_list=[x for x in range(0,n)]\n",
    "plot_pacf(Open_prices, lags=lags_list)\n",
    "plt.axhline(y=thres_ACF, color='r', linestyle='-')\n",
    "plt.axhline(y=-thres_ACF, color='r', linestyle='-')\n",
    "plt.xlabel('Lags')\n",
    "plt.ylabel('PACF') \n",
    "plt.show()\n"
   ]
  },
  {
   "cell_type": "code",
   "execution_count": 68,
   "metadata": {
    "scrolled": false
   },
   "outputs": [
    {
     "name": "stdout",
     "output_type": "stream",
     "text": [
      "                               SARIMAX Results                                \n",
      "==============================================================================\n",
      "Dep. Variable:                   Open   No. Observations:                 1022\n",
      "Model:                 ARIMA(2, 1, 2)   Log Likelihood               -3910.809\n",
      "Date:                Thu, 01 Apr 2021   AIC                           7831.618\n",
      "Time:                        07:16:34   BIC                           7856.261\n",
      "Sample:                             0   HQIC                          7840.975\n",
      "                               - 1022                                         \n",
      "Covariance Type:                  opg                                         \n",
      "==============================================================================\n",
      "                 coef    std err          z      P>|z|      [0.025      0.975]\n",
      "------------------------------------------------------------------------------\n",
      "ar.L1         -0.2272      0.044     -5.137      0.000      -0.314      -0.141\n",
      "ar.L2         -0.8995      0.051    -17.622      0.000      -1.000      -0.799\n",
      "ma.L1          0.2227      0.038      5.831      0.000       0.148       0.298\n",
      "ma.L2          0.9378      0.043     22.065      0.000       0.855       1.021\n",
      "sigma2       124.3037      2.375     52.331      0.000     119.648     128.959\n",
      "===================================================================================\n",
      "Ljung-Box (L1) (Q):                   0.68   Jarque-Bera (JB):              4298.76\n",
      "Prob(Q):                              0.41   Prob(JB):                         0.00\n",
      "Heteroskedasticity (H):               3.55   Skew:                             0.50\n",
      "Prob(H) (two-sided):                  0.00   Kurtosis:                        13.00\n",
      "===================================================================================\n",
      "\n",
      "Warnings:\n",
      "[1] Covariance matrix calculated using the outer product of gradients (complex-step).\n"
     ]
    },
    {
     "data": {
      "image/png": "[encoded data removed]",
      "text/plain": [
       "<Figure size 432x288 with 1 Axes>"
      ]
     },
     "metadata": {
      "needs_background": "light"
     },
     "output_type": "display_data"
    },
    {
     "data": {
      "image/png": "[encoded data removed]",
      "text/plain": [
       "<Figure size 432x288 with 1 Axes>"
      ]
     },
     "metadata": {
      "needs_background": "light"
     },
     "output_type": "display_data"
    },
    {
     "name": "stdout",
     "output_type": "stream",
     "text": [
      "                 0\n",
      "count  1022.000000\n",
      "mean      1.329737\n",
      "std      16.670694\n",
      "min     -57.330743\n",
      "25%      -3.950619\n",
      "50%       0.792221\n",
      "75%       5.987614\n",
      "max     398.290009\n"
     ]
    },
    {
     "data": {
      "image/png": "[encoded data removed]",
      "text/plain": [
       "<Figure size 432x288 with 1 Axes>"
      ]
     },
     "metadata": {
      "needs_background": "light"
     },
     "output_type": "display_data"
    },
    {
     "data": {
      "image/png": "[encoded data removed]",
      "text/plain": [
       "<Figure size 432x288 with 1 Axes>"
      ]
     },
     "metadata": {
      "needs_background": "light"
     },
     "output_type": "display_data"
    },
    {
     "data": {
      "image/png": "[encoded data removed]",
      "text/plain": [
       "<Figure size 432x288 with 1 Axes>"
      ]
     },
     "metadata": {
      "needs_background": "light"
     },
     "output_type": "display_data"
    },
    {
     "name": "stdout",
     "output_type": "stream",
     "text": [
      "ARIMA: predicted=1373.760667, expected=1368.000000\n",
      "Holts Winters: predicted=1373.921130, expected=1368.000000\n"
     ]
    },
    {
     "name": "stderr",
     "output_type": "stream",
     "text": [
      "/opt/anaconda3/lib/python3.7/site-packages/statsmodels/tsa/holtwinters/model.py:429: FutureWarning: After 0.13 initialization must be handled at model creation\n",
      "  FutureWarning,\n"
     ]
    },
    {
     "name": "stdout",
     "output_type": "stream",
     "text": [
      "ARIMA: predicted=1368.286715, expected=1392.010010\n",
      "Holts Winters: predicted=1368.149711, expected=1392.010010\n",
      "ARIMA: predicted=1392.603924, expected=1409.180054\n",
      "Holts Winters: predicted=1391.379295, expected=1409.180054\n"
     ]
    },
    {
     "name": "stderr",
     "output_type": "stream",
     "text": [
      "/opt/anaconda3/lib/python3.7/site-packages/statsmodels/tsa/statespace/sarimax.py:966: UserWarning: Non-stationary starting autoregressive parameters found. Using zeros as starting parameters.\n",
      "  warn('Non-stationary starting autoregressive parameters'\n",
      "/opt/anaconda3/lib/python3.7/site-packages/statsmodels/tsa/statespace/sarimax.py:978: UserWarning: Non-invertible starting MA parameters found. Using zeros as starting parameters.\n",
      "  warn('Non-invertible starting MA parameters found.'\n"
     ]
    },
    {
     "name": "stdout",
     "output_type": "stream",
     "text": [
      "ARIMA: predicted=1409.548369, expected=1403.170044\n",
      "Holts Winters: predicted=1408.767032, expected=1403.170044\n",
      "ARIMA: predicted=1403.227449, expected=1451.300049\n",
      "Holts Winters: predicted=1403.304368, expected=1451.300049\n",
      "ARIMA: predicted=1450.434223, expected=1445.000000\n",
      "Holts Winters: predicted=1450.058749, expected=1445.000000\n",
      "ARIMA: predicted=1447.114164, expected=1477.390015\n",
      "Holts Winters: predicted=1445.137373, expected=1477.390015\n",
      "ARIMA: predicted=1477.218103, expected=1402.619995\n",
      "Holts Winters: predicted=1476.472767, expected=1402.619995\n",
      "ARIMA: predicted=1402.950612, expected=1361.459961\n",
      "Holts Winters: predicted=1405.919157, expected=1361.459961\n",
      "ARIMA: predicted=1358.413416, expected=1449.000000\n",
      "Holts Winters: predicted=1362.449776, expected=1449.000000\n"
     ]
    },
    {
     "name": "stderr",
     "output_type": "stream",
     "text": [
      "/opt/anaconda3/lib/python3.7/site-packages/statsmodels/base/model.py:568: ConvergenceWarning: Maximum Likelihood optimization failed to converge. Check mle_retvals\n",
      "  ConvergenceWarning)\n"
     ]
    },
    {
     "name": "stdout",
     "output_type": "stream",
     "text": [
      "ARIMA: predicted=1444.751208, expected=1429.680054\n",
      "Holts Winters: predicted=1444.612033, expected=1429.680054\n"
     ]
    },
    {
     "name": "stderr",
     "output_type": "stream",
     "text": [
      "/opt/anaconda3/lib/python3.7/site-packages/statsmodels/base/model.py:568: ConvergenceWarning: Maximum Likelihood optimization failed to converge. Check mle_retvals\n",
      "  ConvergenceWarning)\n"
     ]
    },
    {
     "name": "stdout",
     "output_type": "stream",
     "text": [
      "ARIMA: predicted=1433.705669, expected=1373.489990\n",
      "Holts Winters: predicted=1430.533984, expected=1373.489990\n",
      "ARIMA: predicted=1376.558098, expected=1364.670044\n",
      "Holts Winters: predicted=1376.688036, expected=1364.670044\n",
      "ARIMA: predicted=1366.588546, expected=1385.930054\n",
      "Holts Winters: predicted=1365.270009, expected=1385.930054\n",
      "ARIMA: predicted=1385.166414, expected=1406.250000\n",
      "Holts Winters: predicted=1384.829658, expected=1406.250000\n",
      "ARIMA: predicted=1404.418258, expected=1466.890015\n",
      "Holts Winters: predicted=1405.176905, expected=1466.890015\n",
      "ARIMA: predicted=1463.717027, expected=1457.369995\n",
      "Holts Winters: predicted=1464.409292, expected=1457.369995\n",
      "ARIMA: predicted=1454.801930, expected=1446.489990\n",
      "Holts Winters: predicted=1457.667268, expected=1446.489990\n",
      "ARIMA: predicted=1447.231584, expected=1485.000000\n",
      "Holts Winters: predicted=1446.971529, expected=1485.000000\n",
      "ARIMA: predicted=1483.060667, expected=1495.359985\n",
      "Holts Winters: predicted=1483.247048, expected=1495.359985\n",
      "ARIMA: predicted=1493.153548, expected=1495.339966\n",
      "Holts Winters: predicted=1494.844774, expected=1495.339966\n",
      "ARIMA: predicted=1495.211617, expected=1509.199951\n",
      "Holts Winters: predicted=1495.318745, expected=1509.199951\n",
      "ARIMA: predicted=1508.507303, expected=1524.500000\n",
      "Holts Winters: predicted=1508.605765, expected=1524.500000\n",
      "ARIMA: predicted=1523.300202, expected=1519.510010\n",
      "Holts Winters: predicted=1523.845043, expected=1519.510010\n",
      "ARIMA: predicted=1519.160798, expected=1513.599976\n",
      "Holts Winters: predicted=1519.690697, expected=1513.599976\n",
      "ARIMA: predicted=1514.210377, expected=1469.099976\n",
      "Holts Winters: predicted=1513.853356, expected=1469.099976\n",
      "ARIMA: predicted=1470.889411, expected=1494.239990\n",
      "Holts Winters: predicted=1470.874490, expected=1494.239990\n",
      "ARIMA: predicted=1495.376155, expected=1533.199951\n",
      "Holts Winters: predicted=1493.159779, expected=1533.199951\n",
      "ARIMA: predicted=1529.790419, expected=1526.520020\n",
      "Holts Winters: predicted=1531.563453, expected=1526.520020\n",
      "ARIMA: predicted=1525.134461, expected=1550.000000\n",
      "Holts Winters: predicted=1526.731534, expected=1550.000000\n",
      "ARIMA: predicted=1549.513323, expected=1563.500000\n",
      "Holts Winters: predicted=1549.000719, expected=1563.500000\n",
      "ARIMA: predicted=1561.416681, expected=1592.599976\n",
      "Holts Winters: predicted=1562.912672, expected=1592.599976\n",
      "ARIMA: predicted=1590.821240, expected=1615.959961\n",
      "Holts Winters: predicted=1591.486596, expected=1615.959961\n",
      "ARIMA: predicted=1619.445494, expected=1597.000000\n",
      "Holts Winters: predicted=1615.166791, expected=1597.000000\n",
      "ARIMA: predicted=1600.161120, expected=1595.000000\n",
      "Holts Winters: predicted=1597.645761, expected=1595.000000\n",
      "ARIMA: predicted=1598.044772, expected=1583.449951\n",
      "Holts Winters: predicted=1595.093461, expected=1583.449951\n",
      "ARIMA: predicted=1583.470984, expected=1554.530029\n",
      "Holts Winters: predicted=1583.859094, expected=1554.530029\n",
      "ARIMA: predicted=1556.884350, expected=1550.339966\n",
      "Holts Winters: predicted=1555.492201, expected=1550.339966\n",
      "ARIMA: predicted=1552.758657, expected=1586.449951\n",
      "Holts Winters: predicted=1550.502951, expected=1586.449951\n",
      "ARIMA: predicted=1585.274394, expected=1565.469971\n",
      "Holts Winters: predicted=1585.253596, expected=1565.469971\n"
     ]
    },
    {
     "name": "stderr",
     "output_type": "stream",
     "text": [
      "/opt/anaconda3/lib/python3.7/site-packages/statsmodels/base/model.py:568: ConvergenceWarning: Maximum Likelihood optimization failed to converge. Check mle_retvals\n",
      "  ConvergenceWarning)\n"
     ]
    },
    {
     "name": "stdout",
     "output_type": "stream",
     "text": [
      "ARIMA: predicted=1569.252235, expected=1539.010010\n",
      "Holts Winters: predicted=1566.215324, expected=1539.010010\n",
      "ARIMA: predicted=1542.036333, expected=1530.000000\n",
      "Holts Winters: predicted=1539.950685, expected=1530.000000\n",
      "ARIMA: predicted=1531.034173, expected=1572.400024\n",
      "Holts Winters: predicted=1530.324760, expected=1572.400024\n",
      "ARIMA: predicted=1571.601069, expected=1447.000000\n",
      "Holts Winters: predicted=1570.891010, expected=1447.000000\n",
      "ARIMA: predicted=1452.329123, expected=1406.000000\n",
      "Holts Winters: predicted=1455.513337, expected=1406.000000\n",
      "ARIMA: predicted=1416.939406, expected=1417.619995\n",
      "Holts Winters: predicted=1407.509053, expected=1417.619995\n",
      "ARIMA: predicted=1416.104750, expected=1391.380005\n",
      "Holts Winters: predicted=1417.256716, expected=1391.380005\n",
      "ARIMA: predicted=1392.211200, expected=1358.239990\n",
      "Holts Winters: predicted=1392.356194, expected=1358.239990\n",
      "ARIMA: predicted=1362.772075, expected=1441.989990\n",
      "Holts Winters: predicted=1359.344365, expected=1441.989990\n",
      "ARIMA: predicted=1438.216601, expected=1429.969971\n",
      "Holts Winters: predicted=1437.886908, expected=1429.969971\n",
      "ARIMA: predicted=1421.093165, expected=1425.030029\n",
      "Holts Winters: predicted=1430.379290, expected=1425.030029\n",
      "ARIMA: predicted=1433.596381, expected=1431.989990\n",
      "Holts Winters: predicted=1425.316724, expected=1431.989990\n",
      "ARIMA: predicted=1430.803337, expected=1439.439941\n",
      "Holts Winters: predicted=1431.630951, expected=1439.439941\n",
      "ARIMA: predicted=1434.816927, expected=1439.500000\n",
      "Holts Winters: predicted=1439.022082, expected=1439.500000\n",
      "ARIMA: predicted=1441.573222, expected=1449.140015\n",
      "Holts Winters: predicted=1439.474440, expected=1449.140015\n",
      "ARIMA: predicted=1449.376530, expected=1445.000000\n",
      "Holts Winters: predicted=1448.623395, expected=1445.000000\n",
      "ARIMA: predicted=1443.157980, expected=1462.300049\n",
      "Holts Winters: predicted=1445.194303, expected=1462.300049\n",
      "ARIMA: predicted=1462.947090, expected=1514.650024\n",
      "Holts Winters: predicted=1461.377074, expected=1514.650024\n",
      "ARIMA: predicted=1511.115209, expected=1543.219971\n",
      "Holts Winters: predicted=1512.058572, expected=1543.219971\n",
      "ARIMA: predicted=1539.121429, expected=1561.199951\n",
      "Holts Winters: predicted=1542.020836, expected=1561.199951\n",
      "ARIMA: predicted=1562.402935, expected=1546.689941\n",
      "Holts Winters: predicted=1560.521308, expected=1546.689941\n",
      "ARIMA: predicted=1546.581216, expected=1535.800049\n",
      "Holts Winters: predicted=1547.202952, expected=1535.800049\n",
      "ARIMA: predicted=1536.978623, expected=1458.000000\n",
      "Holts Winters: predicted=1536.213981, expected=1458.000000\n",
      "ARIMA: predicted=1454.202890, expected=1485.010010\n",
      "Holts Winters: predicted=1460.433462, expected=1485.010010\n",
      "ARIMA: predicted=1488.102860, expected=1634.010010\n",
      "Holts Winters: predicted=1484.021889, expected=1634.010010\n",
      "ARIMA: predicted=1624.577025, expected=1582.500000\n",
      "Holts Winters: predicted=1630.643444, expected=1582.500000\n",
      "ARIMA: predicted=1571.012780, expected=1563.219971\n",
      "Holts Winters: predicted=1585.114882, expected=1563.219971\n",
      "ARIMA: predicted=1582.991186, expected=1580.979980\n",
      "Holts Winters: predicted=1564.481950, expected=1580.979980\n",
      "ARIMA: predicted=1576.103078, expected=1560.010010\n",
      "Holts Winters: predicted=1579.990433, expected=1560.010010\n",
      "ARIMA: predicted=1554.619578, expected=1562.449951\n",
      "Holts Winters: predicted=1561.243732, expected=1562.449951\n",
      "ARIMA: predicted=1570.376658, expected=1589.339966\n",
      "Holts Winters: predicted=1562.375375, expected=1589.339966\n",
      "ARIMA: predicted=1584.365108, expected=1595.000000\n",
      "Holts Winters: predicted=1587.669603, expected=1595.000000\n",
      "ARIMA: predicted=1590.365802, expected=1600.000000\n",
      "Holts Winters: predicted=1594.555692, expected=1600.000000\n",
      "ARIMA: predicted=1603.646027, expected=1608.479980\n",
      "Holts Winters: predicted=1599.670276, expected=1608.479980\n",
      "ARIMA: predicted=1606.798929, expected=1610.989990\n",
      "Holts Winters: predicted=1607.948870, expected=1610.989990\n",
      "ARIMA: predicted=1609.291103, expected=1604.000000\n",
      "Holts Winters: predicted=1610.807161, expected=1604.000000\n",
      "ARIMA: predicted=1605.738899, expected=1587.800049\n",
      "Holts Winters: predicted=1604.410313, expected=1587.800049\n",
      "ARIMA: predicted=1588.939663, expected=1577.500000\n",
      "Holts Winters: predicted=1588.791066, expected=1577.500000\n",
      "ARIMA: predicted=1578.651663, expected=1580.560059\n",
      "Holts Winters: predicted=1578.160878, expected=1580.560059\n",
      "ARIMA: predicted=1580.633829, expected=1581.329956\n",
      "Holts Winters: predicted=1580.419140, expected=1581.329956\n",
      "ARIMA: predicted=1580.397541, expected=1585.000000\n",
      "Holts Winters: predicted=1581.276422, expected=1585.000000\n",
      "ARIMA: predicted=1585.343449, expected=1589.890015\n",
      "Holts Winters: predicted=1584.781219, expected=1589.890015\n",
      "ARIMA: predicted=1589.389309, expected=1571.050049\n",
      "Holts Winters: predicted=1589.590406, expected=1571.050049\n",
      "ARIMA: predicted=1571.240037, expected=1598.030029\n",
      "Holts Winters: predicted=1572.147337, expected=1598.030029\n",
      "ARIMA: predicted=1599.600217, expected=1603.000000\n",
      "Holts Winters: predicted=1596.434109, expected=1603.000000\n",
      "ARIMA: predicted=1598.146946, expected=1600.709961\n",
      "Holts Winters: predicted=1602.601544, expected=1600.709961\n",
      "ARIMA: predicted=1602.609550, expected=1618.099976\n",
      "Holts Winters: predicted=1600.825253, expected=1618.099976\n",
      "ARIMA: predicted=1618.411145, expected=1623.000000\n",
      "Holts Winters: predicted=1617.044479, expected=1623.000000\n",
      "ARIMA: predicted=1619.551122, expected=1637.030029\n",
      "Holts Winters: predicted=1622.639993, expected=1637.030029\n",
      "ARIMA: predicted=1637.951946, expected=1648.900024\n",
      "Holts Winters: predicted=1636.166840, expected=1648.900024\n",
      "ARIMA: predicted=1647.329730, expected=1672.989990\n",
      "Holts Winters: predicted=1648.149922, expected=1672.989990\n",
      "ARIMA: predicted=1671.195824, expected=1704.510010\n",
      "Holts Winters: predicted=1671.571570, expected=1704.510010\n",
      "ARIMA: predicted=1702.127619, expected=1698.560059\n",
      "Holts Winters: predicted=1702.782308, expected=1698.560059\n",
      "ARIMA: predicted=1696.912662, expected=1681.119995\n",
      "Holts Winters: predicted=1698.784154, expected=1681.119995\n",
      "ARIMA: predicted=1684.454426, expected=1681.510010\n",
      "Holts Winters: predicted=1682.059422, expected=1681.510010\n",
      "ARIMA: predicted=1682.221069, expected=1693.000000\n",
      "Holts Winters: predicted=1681.539152, expected=1693.000000\n",
      "ARIMA: predicted=1690.860743, expected=1702.810059\n",
      "Holts Winters: predicted=1692.390016, expected=1702.810059\n",
      "ARIMA: predicted=1702.139201, expected=1713.479980\n",
      "Holts Winters: predicted=1702.262495, expected=1713.479980\n",
      "ARIMA: predicted=1713.138036, expected=1714.000000\n",
      "Holts Winters: predicted=1712.897932, expected=1714.000000\n",
      "ARIMA: predicted=1713.086005, expected=1706.260010\n",
      "Holts Winters: predicted=1713.942897, expected=1706.260010\n",
      "ARIMA: predicted=1707.151051, expected=1709.040039\n",
      "Holts Winters: predicted=1706.658917, expected=1709.040039\n",
      "ARIMA: predicted=1709.716996, expected=1742.500000\n",
      "Holts Winters: predicted=1708.916213, expected=1742.500000\n",
      "ARIMA: predicted=1740.382496, expected=1760.000000\n",
      "Holts Winters: predicted=1740.765078, expected=1760.000000\n",
      "ARIMA: predicted=1756.348840, expected=1742.619995\n",
      "Holts Winters: predicted=1759.078802, expected=1742.619995\n",
      "ARIMA: predicted=1744.027233, expected=1702.510010\n",
      "Holts Winters: predicted=1743.441414, expected=1702.510010\n",
      "ARIMA: predicted=1706.216495, expected=1672.369995\n",
      "Holts Winters: predicted=1704.415092, expected=1672.369995\n",
      "ARIMA: predicted=1675.102550, expected=1708.109985\n",
      "Holts Winters: predicted=1673.621916, expected=1708.109985\n",
      "ARIMA: predicted=1707.989979, expected=1672.540039\n",
      "Holts Winters: predicted=1706.543969, expected=1672.540039\n",
      "ARIMA: predicted=1668.049713, expected=1717.000000\n",
      "Holts Winters: predicted=1674.284415, expected=1717.000000\n",
      "ARIMA: predicted=1722.686966, expected=1682.699951\n",
      "Holts Winters: predicted=1714.505787, expected=1682.699951\n",
      "ARIMA: predicted=1676.919324, expected=1723.959961\n",
      "Holts Winters: predicted=1684.757798, expected=1723.959961\n",
      "ARIMA: predicted=1726.870526, expected=1705.380005\n",
      "Holts Winters: predicted=1721.194154, expected=1705.380005\n"
     ]
    },
    {
     "name": "stderr",
     "output_type": "stream",
     "text": [
      "/opt/anaconda3/lib/python3.7/site-packages/statsmodels/base/model.py:568: ConvergenceWarning: Maximum Likelihood optimization failed to converge. Check mle_retvals\n",
      "  ConvergenceWarning)\n"
     ]
    },
    {
     "name": "stdout",
     "output_type": "stream",
     "text": [
      "ARIMA: predicted=1703.042110, expected=1696.000000\n",
      "Holts Winters: predicted=1706.537702, expected=1696.000000\n",
      "ARIMA: predicted=1698.966684, expected=1724.050049\n",
      "Holts Winters: predicted=1696.768908, expected=1724.050049\n",
      "ARIMA: predicted=1723.101903, expected=1738.530029\n",
      "Holts Winters: predicted=1722.017266, expected=1738.530029\n",
      "ARIMA: predicted=1733.681446, expected=1737.989990\n",
      "Holts Winters: predicted=1737.338096, expected=1737.989990\n",
      "ARIMA: predicted=1739.357050, expected=1764.510010\n",
      "Holts Winters: predicted=1737.942888, expected=1764.510010\n",
      "ARIMA: predicted=1764.427874, expected=1803.930054\n",
      "Holts Winters: predicted=1762.594116, expected=1803.930054\n",
      "ARIMA: predicted=1795.550992, expected=1821.949951\n",
      "Holts Winters: predicted=1801.179658, expected=1821.949951\n",
      "ARIMA: predicted=1824.175473, expected=1811.560059\n",
      "Holts Winters: predicted=1820.663414, expected=1811.560059\n",
      "ARIMA: predicted=1813.741881, expected=1848.000000\n",
      "Holts Winters: predicted=1812.136702, expected=1848.000000\n"
     ]
    },
    {
     "name": "stderr",
     "output_type": "stream",
     "text": [
      "/opt/anaconda3/lib/python3.7/site-packages/statsmodels/base/model.py:568: ConvergenceWarning: Maximum Likelihood optimization failed to converge. Check mle_retvals\n",
      "  ConvergenceWarning)\n"
     ]
    },
    {
     "name": "stdout",
     "output_type": "stream",
     "text": [
      "ARIMA: predicted=1840.584531, expected=1829.459961\n",
      "Holts Winters: predicted=1845.676545, expected=1829.459961\n"
     ]
    },
    {
     "name": "stderr",
     "output_type": "stream",
     "text": [
      "/opt/anaconda3/lib/python3.7/site-packages/statsmodels/base/model.py:568: ConvergenceWarning: Maximum Likelihood optimization failed to converge. Check mle_retvals\n",
      "  ConvergenceWarning)\n"
     ]
    },
    {
     "name": "stdout",
     "output_type": "stream",
     "text": [
      "ARIMA: predicted=1827.672134, expected=1825.010010\n",
      "Holts Winters: predicted=1830.548261, expected=1825.010010\n"
     ]
    },
    {
     "name": "stderr",
     "output_type": "stream",
     "text": [
      "/opt/anaconda3/lib/python3.7/site-packages/statsmodels/base/model.py:568: ConvergenceWarning: Maximum Likelihood optimization failed to converge. Check mle_retvals\n",
      "  ConvergenceWarning)\n"
     ]
    },
    {
     "name": "stdout",
     "output_type": "stream",
     "text": [
      "ARIMA: predicted=1833.972077, expected=1812.209961\n",
      "Holts Winters: predicted=1825.381571, expected=1812.209961\n"
     ]
    },
    {
     "name": "stderr",
     "output_type": "stream",
     "text": [
      "/opt/anaconda3/lib/python3.7/site-packages/statsmodels/base/model.py:568: ConvergenceWarning: Maximum Likelihood optimization failed to converge. Check mle_retvals\n",
      "  ConvergenceWarning)\n"
     ]
    },
    {
     "name": "stdout",
     "output_type": "stream",
     "text": [
      "ARIMA: predicted=1808.923762, expected=1829.010010\n",
      "Holts Winters: predicted=1813.088998, expected=1829.010010\n"
     ]
    },
    {
     "name": "stderr",
     "output_type": "stream",
     "text": [
      "/opt/anaconda3/lib/python3.7/site-packages/statsmodels/base/model.py:568: ConvergenceWarning: Maximum Likelihood optimization failed to converge. Check mle_retvals\n",
      "  ConvergenceWarning)\n"
     ]
    },
    {
     "name": "stdout",
     "output_type": "stream",
     "text": [
      "ARIMA: predicted=1822.124028, expected=1829.300049\n",
      "Holts Winters: predicted=1827.931997, expected=1829.300049\n"
     ]
    },
    {
     "name": "stderr",
     "output_type": "stream",
     "text": [
      "/opt/anaconda3/lib/python3.7/site-packages/statsmodels/base/model.py:568: ConvergenceWarning: Maximum Likelihood optimization failed to converge. Check mle_retvals\n",
      "  ConvergenceWarning)\n"
     ]
    },
    {
     "name": "stdout",
     "output_type": "stream",
     "text": [
      "ARIMA: predicted=1836.530479, expected=1839.000000\n",
      "Holts Winters: predicted=1829.207568, expected=1839.000000\n",
      "ARIMA: predicted=1840.690649, expected=1876.050049\n",
      "Holts Winters: predicted=1838.338414, expected=1876.050049\n"
     ]
    },
    {
     "name": "stderr",
     "output_type": "stream",
     "text": [
      "/opt/anaconda3/lib/python3.7/site-packages/statsmodels/base/model.py:568: ConvergenceWarning: Maximum Likelihood optimization failed to converge. Check mle_retvals\n",
      "  ConvergenceWarning)\n"
     ]
    },
    {
     "name": "stdout",
     "output_type": "stream",
     "text": [
      "ARIMA: predicted=1866.642102, expected=1827.329956\n",
      "Holts Winters: predicted=1873.569683, expected=1827.329956\n"
     ]
    },
    {
     "name": "stderr",
     "output_type": "stream",
     "text": [
      "/opt/anaconda3/lib/python3.7/site-packages/statsmodels/base/model.py:568: ConvergenceWarning: Maximum Likelihood optimization failed to converge. Check mle_retvals\n",
      "  ConvergenceWarning)\n"
     ]
    },
    {
     "name": "stdout",
     "output_type": "stream",
     "text": [
      "ARIMA: predicted=1832.648508, expected=1786.489990\n",
      "Holts Winters: predicted=1830.731863, expected=1786.489990\n",
      "ARIMA: predicted=1794.467080, expected=1784.000000\n",
      "Holts Winters: predicted=1789.345515, expected=1784.000000\n"
     ]
    },
    {
     "name": "stderr",
     "output_type": "stream",
     "text": [
      "/opt/anaconda3/lib/python3.7/site-packages/statsmodels/base/model.py:568: ConvergenceWarning: Maximum Likelihood optimization failed to converge. Check mle_retvals\n",
      "  ConvergenceWarning)\n"
     ]
    },
    {
     "name": "stdout",
     "output_type": "stream",
     "text": [
      "ARIMA: predicted=1776.148913, expected=1788.770020\n",
      "Holts Winters: predicted=1784.338382, expected=1788.770020\n",
      "ARIMA: predicted=1786.823049, expected=1837.739990\n",
      "Holts Winters: predicted=1788.485940, expected=1837.739990\n",
      "ARIMA: predicted=1846.305124, expected=1825.810059\n",
      "Holts Winters: predicted=1834.626296, expected=1825.810059\n",
      "ARIMA: predicted=1821.415155, expected=1854.530029\n",
      "Holts Winters: predicted=1826.378753, expected=1854.530029\n",
      "ARIMA: predicted=1848.093383, expected=1861.000000\n",
      "Holts Winters: predicted=1852.673564, expected=1861.000000\n",
      "ARIMA: predicted=1868.338244, expected=1882.000000\n",
      "Holts Winters: predicted=1860.461520, expected=1882.000000\n",
      "ARIMA: predicted=1882.783185, expected=1888.510010\n",
      "Holts Winters: predicted=1880.624082, expected=1888.510010\n",
      "ARIMA: predicted=1880.248149, expected=1898.500000\n",
      "Holts Winters: predicted=1888.013376, expected=1898.500000\n",
      "ARIMA: predicted=1902.562827, expected=1919.390015\n",
      "Holts Winters: predicted=1897.842956, expected=1919.390015\n",
      "ARIMA: predicted=1923.867849, expected=1909.550049\n",
      "Holts Winters: predicted=1918.063374, expected=1909.550049\n",
      "ARIMA: predicted=1902.617700, expected=1903.939941\n",
      "Holts Winters: predicted=1910.080577, expected=1903.939941\n"
     ]
    },
    {
     "name": "stderr",
     "output_type": "stream",
     "text": [
      "/opt/anaconda3/lib/python3.7/site-packages/statsmodels/base/model.py:568: ConvergenceWarning: Maximum Likelihood optimization failed to converge. Check mle_retvals\n",
      "  ConvergenceWarning)\n"
     ]
    },
    {
     "name": "stdout",
     "output_type": "stream",
     "text": [
      "ARIMA: predicted=1904.423877, expected=1885.800049\n",
      "Holts Winters: predicted=1904.322163, expected=1885.800049\n",
      "ARIMA: predicted=1892.960352, expected=1890.569946\n",
      "Holts Winters: predicted=1886.942833, expected=1890.569946\n"
     ]
    },
    {
     "name": "stderr",
     "output_type": "stream",
     "text": [
      "/opt/anaconda3/lib/python3.7/site-packages/statsmodels/base/model.py:568: ConvergenceWarning: Maximum Likelihood optimization failed to converge. Check mle_retvals\n",
      "  ConvergenceWarning)\n"
     ]
    },
    {
     "name": "stdout",
     "output_type": "stream",
     "text": [
      "ARIMA: predicted=1885.794005, expected=1880.000000\n",
      "Holts Winters: predicted=1890.345358, expected=1880.000000\n",
      "ARIMA: predicted=1876.299795, expected=1876.640015\n",
      "Holts Winters: predicted=1880.642782, expected=1876.640015\n",
      "ARIMA: predicted=1883.908526, expected=1907.170044\n",
      "Holts Winters: predicted=1876.887872, expected=1907.170044\n"
     ]
    },
    {
     "name": "stderr",
     "output_type": "stream",
     "text": [
      "/opt/anaconda3/lib/python3.7/site-packages/statsmodels/base/model.py:568: ConvergenceWarning: Maximum Likelihood optimization failed to converge. Check mle_retvals\n",
      "  ConvergenceWarning)\n"
     ]
    },
    {
     "name": "stdout",
     "output_type": "stream",
     "text": [
      "ARIMA: predicted=1905.347165, expected=1910.510010\n",
      "Holts Winters: predicted=1905.275175, expected=1910.510010\n",
      "ARIMA: predicted=1903.968612, expected=1915.000000\n",
      "Holts Winters: predicted=1910.187398, expected=1915.000000\n",
      "ARIMA: predicted=1920.800258, expected=1937.729980\n",
      "Holts Winters: predicted=1914.703016, expected=1937.729980\n"
     ]
    },
    {
     "name": "stderr",
     "output_type": "stream",
     "text": [
      "/opt/anaconda3/lib/python3.7/site-packages/statsmodels/base/model.py:568: ConvergenceWarning: Maximum Likelihood optimization failed to converge. Check mle_retvals\n",
      "  ConvergenceWarning)\n"
     ]
    },
    {
     "name": "stdout",
     "output_type": "stream",
     "text": [
      "ARIMA: predicted=1939.667372, expected=1953.449951\n",
      "Holts Winters: predicted=1936.321278, expected=1953.449951\n"
     ]
    },
    {
     "name": "stderr",
     "output_type": "stream",
     "text": [
      "/opt/anaconda3/lib/python3.7/site-packages/statsmodels/base/model.py:568: ConvergenceWarning: Maximum Likelihood optimization failed to converge. Check mle_retvals\n",
      "  ConvergenceWarning)\n"
     ]
    },
    {
     "name": "stdout",
     "output_type": "stream",
     "text": [
      "ARIMA: predicted=1945.749409, expected=1997.420044\n",
      "Holts Winters: predicted=1952.434970, expected=1997.420044\n",
      "ARIMA: predicted=1998.978635, expected=2007.000000\n",
      "Holts Winters: predicted=1994.916898, expected=2007.000000\n"
     ]
    },
    {
     "name": "stderr",
     "output_type": "stream",
     "text": [
      "/opt/anaconda3/lib/python3.7/site-packages/statsmodels/base/model.py:568: ConvergenceWarning: Maximum Likelihood optimization failed to converge. Check mle_retvals\n",
      "  ConvergenceWarning)\n"
     ]
    },
    {
     "name": "stdout",
     "output_type": "stream",
     "text": [
      "ARIMA: predicted=2012.436679, expected=2026.500000\n",
      "Holts Winters: predicted=2006.361948, expected=2026.500000\n"
     ]
    },
    {
     "name": "stderr",
     "output_type": "stream",
     "text": [
      "/opt/anaconda3/lib/python3.7/site-packages/statsmodels/base/model.py:568: ConvergenceWarning: Maximum Likelihood optimization failed to converge. Check mle_retvals\n",
      "  ConvergenceWarning)\n"
     ]
    },
    {
     "name": "stdout",
     "output_type": "stream",
     "text": [
      "ARIMA: predicted=2020.797376, expected=2038.109985\n",
      "Holts Winters: predicted=2025.453023, expected=2038.109985\n"
     ]
    },
    {
     "name": "stderr",
     "output_type": "stream",
     "text": [
      "/opt/anaconda3/lib/python3.7/site-packages/statsmodels/base/model.py:568: ConvergenceWarning: Maximum Likelihood optimization failed to converge. Check mle_retvals\n",
      "  ConvergenceWarning)\n"
     ]
    },
    {
     "name": "stdout",
     "output_type": "stream",
     "text": [
      "ARIMA: predicted=2035.744904, expected=2006.510010\n",
      "Holts Winters: predicted=2037.467031, expected=2006.510010\n",
      "ARIMA: predicted=2014.249634, expected=1938.709961\n",
      "Holts Winters: predicted=2008.141267, expected=1938.709961\n",
      "ARIMA: predicted=1938.526572, expected=1971.000000\n",
      "Holts Winters: predicted=1941.721312, expected=1971.000000\n"
     ]
    },
    {
     "name": "stderr",
     "output_type": "stream",
     "text": [
      "/opt/anaconda3/lib/python3.7/site-packages/statsmodels/base/model.py:568: ConvergenceWarning: Maximum Likelihood optimization failed to converge. Check mle_retvals\n",
      "  ConvergenceWarning)\n"
     ]
    },
    {
     "name": "stdout",
     "output_type": "stream",
     "text": [
      "ARIMA: predicted=1964.267823, expected=1928.270020\n",
      "Holts Winters: predicted=1969.497031, expected=1928.270020\n",
      "ARIMA: predicted=1933.465021, expected=1994.000000\n",
      "Holts Winters: predicted=1930.604131, expected=1994.000000\n",
      "ARIMA: predicted=1996.247226, expected=2000.000000\n",
      "Holts Winters: predicted=1989.775047, expected=2000.000000\n",
      "ARIMA: predicted=1991.858463, expected=1992.930054\n",
      "Holts Winters: predicted=1999.349345, expected=1992.930054\n",
      "ARIMA: predicted=1995.992116, expected=1954.729980\n",
      "Holts Winters: predicted=1993.346641, expected=1954.729980\n",
      "ARIMA: predicted=1962.162313, expected=1918.650024\n",
      "Holts Winters: predicted=1957.204386, expected=1918.650024\n",
      "ARIMA: predicted=1913.002266, expected=1940.500000\n",
      "Holts Winters: predicted=1920.872556, expected=1940.500000\n",
      "ARIMA: predicted=1937.292200, expected=1938.579956\n",
      "Holts Winters: predicted=1939.306305, expected=1938.579956\n",
      "ARIMA: predicted=1945.721391, expected=1954.219971\n",
      "Holts Winters: predicted=1938.624413, expected=1954.219971\n",
      "ARIMA: predicted=1953.936616, expected=1903.790039\n",
      "Holts Winters: predicted=1953.264644, expected=1903.790039\n",
      "ARIMA: predicted=1905.306312, expected=1942.900024\n",
      "Holts Winters: predicted=1906.971445, expected=1942.900024\n",
      "ARIMA: predicted=1944.341870, expected=1968.500000\n",
      "Holts Winters: predicted=1940.363531, expected=1968.500000\n",
      "ARIMA: predicted=1963.264762, expected=1993.239990\n",
      "Holts Winters: predicted=1966.604331, expected=1993.239990\n",
      "ARIMA: predicted=1990.342327, expected=2004.410034\n",
      "Holts Winters: predicted=1991.528859, expected=2004.410034\n",
      "ARIMA: predicted=2001.718541, expected=2021.989990\n",
      "Holts Winters: predicted=2003.600687, expected=2021.989990\n",
      "ARIMA: predicted=2020.431881, expected=1999.989990\n",
      "Holts Winters: predicted=2020.851147, expected=1999.989990\n",
      "ARIMA: predicted=1999.911734, expected=1981.699951\n",
      "Holts Winters: predicted=2001.313895, expected=1981.699951\n",
      "ARIMA: predicted=1984.369396, expected=1949.000000\n",
      "Holts Winters: predicted=1982.915128, expected=1949.000000\n",
      "ARIMA: predicted=1951.951796, expected=1917.989990\n",
      "Holts Winters: predicted=1951.007646, expected=1917.989990\n",
      "ARIMA: predicted=1922.002009, expected=1874.000000\n",
      "Holts Winters: predicted=1919.791331, expected=1874.000000\n",
      "ARIMA: predicted=1872.429983, expected=1859.989990\n",
      "Holts Winters: predicted=1876.222378, expected=1859.989990\n",
      "ARIMA: predicted=1864.479940, expected=1857.890015\n",
      "Holts Winters: predicted=1860.728286, expected=1857.890015\n"
     ]
    },
    {
     "name": "stderr",
     "output_type": "stream",
     "text": [
      "/opt/anaconda3/lib/python3.7/site-packages/statsmodels/base/model.py:568: ConvergenceWarning: Maximum Likelihood optimization failed to converge. Check mle_retvals\n",
      "  ConvergenceWarning)\n"
     ]
    },
    {
     "name": "stdout",
     "output_type": "stream",
     "text": [
      "ARIMA: predicted=1857.043526, expected=1724.000000\n",
      "Holts Winters: predicted=1858.019485, expected=1724.000000\n",
      "ARIMA: predicted=1724.937247, expected=1808.000000\n",
      "Holts Winters: predicted=1729.877917, expected=1808.000000\n",
      "ARIMA: predicted=1809.638503, expected=1795.000000\n",
      "Holts Winters: predicted=1802.151127, expected=1795.000000\n",
      "ARIMA: predicted=1790.529059, expected=1783.500000\n",
      "Holts Winters: predicted=1795.573758, expected=1783.500000\n",
      "ARIMA: predicted=1785.999348, expected=1842.790039\n",
      "Holts Winters: predicted=1784.480401, expected=1842.790039\n",
      "ARIMA: predicted=1843.219590, expected=1821.489990\n",
      "Holts Winters: predicted=1837.919236, expected=1821.489990\n",
      "ARIMA: predicted=1816.481659, expected=1785.160034\n",
      "Holts Winters: predicted=1822.898403, expected=1785.160034\n",
      "ARIMA: predicted=1790.944566, expected=1784.000000\n",
      "Holts Winters: predicted=1788.375502, expected=1784.000000\n",
      "ARIMA: predicted=1786.934965, expected=1742.239990\n",
      "Holts Winters: predicted=1784.368687, expected=1742.239990\n",
      "ARIMA: predicted=1737.371892, expected=1773.699951\n",
      "Holts Winters: predicted=1745.762580, expected=1773.699951\n",
      "ARIMA: predicted=1774.808406, expected=1703.339966\n",
      "Holts Winters: predicted=1771.269540, expected=1703.339966\n"
     ]
    },
    {
     "name": "stderr",
     "output_type": "stream",
     "text": [
      "/opt/anaconda3/lib/python3.7/site-packages/statsmodels/base/model.py:568: ConvergenceWarning: Maximum Likelihood optimization failed to converge. Check mle_retvals\n",
      "  ConvergenceWarning)\n"
     ]
    },
    {
     "name": "stdout",
     "output_type": "stream",
     "text": [
      "ARIMA: predicted=1708.323938, expected=1649.589966\n",
      "Holts Winters: predicted=1709.625315, expected=1649.589966\n",
      "ARIMA: predicted=1659.730328, expected=1660.000000\n",
      "Holts Winters: predicted=1654.340873, expected=1660.000000\n",
      "ARIMA: predicted=1656.978393, expected=1486.160034\n",
      "Holts Winters: predicted=1659.545493, expected=1486.160034\n",
      "ARIMA: predicted=1488.219377, expected=1569.989990\n",
      "Holts Winters: predicted=1500.298387, expected=1569.989990\n",
      "ARIMA: predicted=1572.513430, expected=1623.530029\n",
      "Holts Winters: predicted=1562.706827, expected=1623.530029\n"
     ]
    },
    {
     "name": "stderr",
     "output_type": "stream",
     "text": [
      "/opt/anaconda3/lib/python3.7/site-packages/statsmodels/base/model.py:568: ConvergenceWarning: Maximum Likelihood optimization failed to converge. Check mle_retvals\n",
      "  ConvergenceWarning)\n"
     ]
    },
    {
     "name": "stdout",
     "output_type": "stream",
     "text": [
      "ARIMA: predicted=1602.732449, expected=1678.589966\n",
      "Holts Winters: predicted=1617.111432, expected=1678.589966\n"
     ]
    },
    {
     "name": "stderr",
     "output_type": "stream",
     "text": [
      "/opt/anaconda3/lib/python3.7/site-packages/statsmodels/base/model.py:568: ConvergenceWarning: Maximum Likelihood optimization failed to converge. Check mle_retvals\n",
      "  ConvergenceWarning)\n"
     ]
    },
    {
     "name": "stdout",
     "output_type": "stream",
     "text": [
      "ARIMA: predicted=1691.858332, expected=1657.569946\n",
      "Holts Winters: predicted=1672.806525, expected=1657.569946\n",
      "ARIMA: predicted=1655.139731, expected=1618.349976\n",
      "Holts Winters: predicted=1659.044033, expected=1618.349976\n",
      "ARIMA: predicted=1624.995304, expected=1673.000000\n",
      "Holts Winters: predicted=1622.296149, expected=1673.000000\n",
      "ARIMA: predicted=1663.365414, expected=1755.000000\n",
      "Holts Winters: predicted=1667.814826, expected=1755.000000\n"
     ]
    },
    {
     "name": "stderr",
     "output_type": "stream",
     "text": [
      "/opt/anaconda3/lib/python3.7/site-packages/statsmodels/base/model.py:568: ConvergenceWarning: Maximum Likelihood optimization failed to converge. Check mle_retvals\n",
      "  ConvergenceWarning)\n"
     ]
    },
    {
     "name": "stdout",
     "output_type": "stream",
     "text": [
      "ARIMA: predicted=1743.346718, expected=1732.500000\n",
      "Holts Winters: predicted=1747.065557, expected=1732.500000\n"
     ]
    },
    {
     "name": "stderr",
     "output_type": "stream",
     "text": [
      "/opt/anaconda3/lib/python3.7/site-packages/statsmodels/base/model.py:568: ConvergenceWarning: Maximum Likelihood optimization failed to converge. Check mle_retvals\n",
      "  ConvergenceWarning)\n"
     ]
    },
    {
     "name": "stdout",
     "output_type": "stream",
     "text": [
      "ARIMA: predicted=1740.071575, expected=1698.239990\n",
      "Holts Winters: predicted=1733.854892, expected=1698.239990\n"
     ]
    },
    {
     "name": "stderr",
     "output_type": "stream",
     "text": [
      "/opt/anaconda3/lib/python3.7/site-packages/statsmodels/base/model.py:568: ConvergenceWarning: Maximum Likelihood optimization failed to converge. Check mle_retvals\n",
      "  ConvergenceWarning)\n"
     ]
    },
    {
     "name": "stdout",
     "output_type": "stream",
     "text": [
      "ARIMA: predicted=1702.894283, expected=1649.290039\n",
      "Holts Winters: predicted=1701.609866, expected=1649.290039\n",
      "ARIMA: predicted=1648.664157, expected=1656.319946\n",
      "Holts Winters: predicted=1653.949001, expected=1656.319946\n",
      "ARIMA: predicted=1661.861433, expected=1581.010010\n",
      "Holts Winters: predicted=1656.108987, expected=1581.010010\n",
      "ARIMA: predicted=1580.037690, expected=1587.500000\n",
      "Holts Winters: predicted=1587.709057, expected=1587.500000\n",
      "ARIMA: predicted=1595.047151, expected=1577.010010\n",
      "Holts Winters: predicted=1587.518359, expected=1577.010010\n",
      "ARIMA: predicted=1565.959783, expected=1437.500000\n",
      "Holts Winters: predicted=1577.944824, expected=1437.500000\n",
      "ARIMA: predicted=1454.751616, expected=1542.989990\n",
      "Holts Winters: predicted=1449.416752, expected=1542.989990\n",
      "ARIMA: predicted=1529.542831, expected=1517.000000\n",
      "Holts Winters: predicted=1532.531993, expected=1517.000000\n",
      "ARIMA: predicted=1512.286357, expected=1539.000000\n",
      "Holts Winters: predicted=1518.844773, expected=1539.000000\n",
      "ARIMA: predicted=1558.729916, expected=1575.989990\n",
      "Holts Winters: predicted=1536.570058, expected=1575.989990\n",
      "ARIMA: predicted=1544.135697, expected=1613.920044\n",
      "Holts Winters: predicted=1571.311934, expected=1613.920044\n",
      "ARIMA: predicted=1637.627662, expected=1674.989990\n",
      "Holts Winters: predicted=1609.056652, expected=1674.989990\n",
      "ARIMA: predicted=1656.954718, expected=1679.500000\n",
      "Holts Winters: predicted=1667.944732, expected=1679.500000\n",
      "ARIMA: predicted=1680.094782, expected=1769.459961\n",
      "Holts Winters: predicted=1678.294416, expected=1769.459961\n",
      "ARIMA: predicted=1777.117261, expected=1756.000000\n",
      "Holts Winters: predicted=1760.194562, expected=1756.000000\n",
      "ARIMA: predicted=1735.881256, expected=1614.869995\n",
      "Holts Winters: predicted=1756.422078, expected=1614.869995\n",
      "ARIMA: predicted=1651.027885, expected=1705.069946\n",
      "Holts Winters: predicted=1629.639360, expected=1705.069946\n",
      "ARIMA: predicted=1675.421521, expected=1623.839966\n",
      "Holts Winters: predicted=1695.866088, expected=1623.839966\n",
      "ARIMA: predicted=1634.331833, expected=1678.000000\n",
      "Holts Winters: predicted=1633.543429, expected=1678.000000\n",
      "ARIMA: predicted=1691.698919, expected=1669.000000\n",
      "Holts Winters: predicted=1671.772053, expected=1669.000000\n",
      "ARIMA: predicted=1633.148100, expected=1680.000000\n",
      "Holts Winters: predicted=1669.391172, expected=1680.000000\n",
      "ARIMA: predicted=1723.141555, expected=1638.000000\n",
      "Holts Winters: predicted=1678.499794, expected=1638.000000\n",
      "ARIMA: predicted=1604.735088, expected=1566.000000\n",
      "Holts Winters: predicted=1643.761374, expected=1566.000000\n",
      "ARIMA: predicted=1590.398038, expected=1540.000000\n",
      "Holts Winters: predicted=1576.563242, expected=1540.000000\n",
      "ARIMA: predicted=1542.951962, expected=1543.050049\n",
      "Holts Winters: predicted=1544.699944, expected=1543.050049\n",
      "ARIMA: predicted=1520.393251, expected=1484.000000\n",
      "Holts Winters: predicted=1543.263848, expected=1484.000000\n",
      "ARIMA: predicted=1520.595592, expected=1464.989990\n",
      "Holts Winters: predicted=1491.659440, expected=1464.989990\n",
      "ARIMA: predicted=1436.182831, expected=1346.000000\n",
      "Holts Winters: predicted=1468.331294, expected=1346.000000\n",
      "ARIMA: predicted=1369.112241, expected=1368.890015\n",
      "Holts Winters: predicted=1360.447098, expected=1368.890015\n",
      "ARIMA: predicted=1368.431903, expected=1454.199951\n",
      "Holts Winters: predicted=1367.903845, expected=1454.199951\n"
     ]
    },
    {
     "name": "stderr",
     "output_type": "stream",
     "text": [
      "/opt/anaconda3/lib/python3.7/site-packages/statsmodels/base/model.py:568: ConvergenceWarning: Maximum Likelihood optimization failed to converge. Check mle_retvals\n",
      "  ConvergenceWarning)\n"
     ]
    },
    {
     "name": "stdout",
     "output_type": "stream",
     "text": [
      "ARIMA: predicted=1424.013724, expected=1473.349976\n",
      "Holts Winters: predicted=1443.720990, expected=1473.349976\n",
      "ARIMA: predicted=1508.905637, expected=1510.800049\n",
      "Holts Winters: predicted=1469.940661, expected=1510.800049\n",
      "ARIMA: predicted=1478.180891, expected=1465.199951\n",
      "Holts Winters: predicted=1506.167966, expected=1465.199951\n",
      "ARIMA: predicted=1483.627024, expected=1520.010010\n",
      "Holts Winters: predicted=1469.980788, expected=1520.010010\n",
      "ARIMA: predicted=1512.075667, expected=1530.000000\n",
      "Holts Winters: predicted=1513.999770, expected=1530.000000\n"
     ]
    },
    {
     "name": "stderr",
     "output_type": "stream",
     "text": [
      "/opt/anaconda3/lib/python3.7/site-packages/statsmodels/base/model.py:568: ConvergenceWarning: Maximum Likelihood optimization failed to converge. Check mle_retvals\n",
      "  ConvergenceWarning)\n"
     ]
    },
    {
     "name": "stdout",
     "output_type": "stream",
     "text": [
      "ARIMA: predicted=1511.958519, expected=1602.310059\n",
      "Holts Winters: predicted=1528.102137, expected=1602.310059\n"
     ]
    },
    {
     "name": "stderr",
     "output_type": "stream",
     "text": [
      "/opt/anaconda3/lib/python3.7/site-packages/statsmodels/base/model.py:568: ConvergenceWarning: Maximum Likelihood optimization failed to converge. Check mle_retvals\n",
      "  ConvergenceWarning)\n"
     ]
    },
    {
     "name": "stdout",
     "output_type": "stream",
     "text": [
      "ARIMA: predicted=1624.543885, expected=1664.689941\n",
      "Holts Winters: predicted=1593.695023, expected=1664.689941\n",
      "ARIMA: predicted=1657.345960, expected=1652.979980\n",
      "Holts Winters: predicted=1657.212961, expected=1652.979980\n",
      "ARIMA: predicted=1654.761148, expected=1641.010010\n",
      "Holts Winters: predicted=1653.428058, expected=1641.010010\n"
     ]
    },
    {
     "name": "stderr",
     "output_type": "stream",
     "text": [
      "/opt/anaconda3/lib/python3.7/site-packages/statsmodels/base/model.py:568: ConvergenceWarning: Maximum Likelihood optimization failed to converge. Check mle_retvals\n",
      "  ConvergenceWarning)\n"
     ]
    },
    {
     "name": "stdout",
     "output_type": "stream",
     "text": [
      "ARIMA: predicted=1627.255505, expected=1640.550049\n",
      "Holts Winters: predicted=1642.340159, expected=1640.550049\n"
     ]
    },
    {
     "name": "stderr",
     "output_type": "stream",
     "text": [
      "/opt/anaconda3/lib/python3.7/site-packages/statsmodels/base/model.py:568: ConvergenceWarning: Maximum Likelihood optimization failed to converge. Check mle_retvals\n",
      "  ConvergenceWarning)\n"
     ]
    },
    {
     "name": "stdout",
     "output_type": "stream",
     "text": [
      "ARIMA: predicted=1631.209003, expected=1615.000000\n",
      "Holts Winters: predicted=1640.741683, expected=1615.000000\n",
      "ARIMA: predicted=1643.780388, expected=1632.000000\n",
      "Holts Winters: predicted=1617.752718, expected=1632.000000\n",
      "ARIMA: predicted=1601.998714, expected=1684.219971\n",
      "Holts Winters: predicted=1630.468838, expected=1684.219971\n"
     ]
    },
    {
     "name": "stderr",
     "output_type": "stream",
     "text": [
      "/opt/anaconda3/lib/python3.7/site-packages/statsmodels/base/model.py:568: ConvergenceWarning: Maximum Likelihood optimization failed to converge. Check mle_retvals\n",
      "  ConvergenceWarning)\n"
     ]
    },
    {
     "name": "stdout",
     "output_type": "stream",
     "text": [
      "ARIMA: predicted=1700.250889, expected=1680.000000\n",
      "Holts Winters: predicted=1678.496847, expected=1680.000000\n",
      "ARIMA: predicted=1679.375656, expected=1712.000000\n",
      "Holts Winters: predicted=1679.840998, expected=1712.000000\n",
      "ARIMA: predicted=1686.620176, expected=1681.000000\n",
      "Holts Winters: predicted=1708.593601, expected=1681.000000\n",
      "ARIMA: predicted=1706.721220, expected=1656.000000\n",
      "Holts Winters: predicted=1683.961798, expected=1656.000000\n",
      "ARIMA: predicted=1639.670417, expected=1641.069946\n",
      "Holts Winters: predicted=1658.970742, expected=1641.069946\n",
      "ARIMA: predicted=1648.938018, expected=1670.500000\n",
      "Holts Winters: predicted=1642.953312, expected=1670.500000\n",
      "ARIMA: predicted=1670.837095, expected=1643.589966\n",
      "Holts Winters: predicted=1667.570903, expected=1643.589966\n",
      "ARIMA: predicted=1637.129986, expected=1631.270020\n",
      "Holts Winters: predicted=1646.164722, expected=1631.270020\n",
      "ARIMA: predicted=1646.311924, expected=1623.000000\n",
      "Holts Winters: predicted=1632.861413, expected=1623.000000\n",
      "ARIMA: predicted=1607.930637, expected=1692.849976\n",
      "Holts Winters: predicted=1624.050968, expected=1692.849976\n",
      "Sign accuracy (ARIMA) for next day prices: 0.5529411764705883\n",
      "Sign accuracy (Holts-Winters) for next day prices: 0.47058823529411764\n",
      "ARIMA: Test RMSE: 40.290\n",
      "Holts-Winters: Test RMSE: 40.567\n"
     ]
    },
    {
     "data": {
      "image/png": "[encoded data removed]",
      "text/plain": [
       "<Figure size 432x288 with 1 Axes>"
      ]
     },
     "metadata": {
      "needs_background": "light"
     },
     "output_type": "display_data"
    }
   ],
   "source": [
    "# ARIMA forecasting model - next day's stock market price prediction\n",
    "\n",
    "# Based on the ACF and PACF we define our model as:\n",
    "\n",
    "q=2   #MA model order\n",
    "p=2   #AR model order\n",
    "\n",
    "# Train-test data split\n",
    "n_train=int(0.80*len(Open_prices))\n",
    "n_end=len(Open_prices)+1\n",
    "Open_prices_train=Open_prices.iloc[1:n_train]\n",
    "Open_prices_test=Open_prices.iloc[n_train:n_end]\n",
    "\n",
    "\n",
    "\n",
    "# ARIMA - model fit\n",
    "#fit model\n",
    "model = ARIMA(Open_prices_train, order=(p,1,q))\n",
    "model_fit = model.fit()\n",
    "\n",
    "# summary of fit model\n",
    "print(model_fit.summary())\n",
    "\n",
    "# line plot of residuals\n",
    "residuals = DataFrame(model_fit.resid)\n",
    "residuals.plot()\n",
    "plt.show()\n",
    "\n",
    "# density plot of residuals\n",
    "residuals.plot(kind='kde')\n",
    "plt.show()\n",
    "\n",
    "# summary stats of residuals\n",
    "print(residuals.describe())\n",
    "\n",
    "\n",
    "#Model fit check\n",
    "\n",
    "#plotting open Amazon stock prices from train data \n",
    "plt.plot(price_data.loc[0:len(Open_prices_train),'Open'])\n",
    "plt.show()\n",
    "plt.title('Amazon stock market price (actual values)')\n",
    "plt.xlabel('Days')\n",
    "plt.ylabel('Stock price') \n",
    "plt.show()\n",
    "\n",
    "#plotting ARIMA fitted values\n",
    "plt.plot(model_fit.fittedvalues[1:len(Open_prices_train)], color='red')\n",
    "plt.title('Amazon stock market price (fitted values)')\n",
    "plt.xlabel('Days')\n",
    "plt.ylabel('Stock price') \n",
    "plt.show()\n",
    "\n",
    "\n",
    "# Forecasting using the ARIMA model\n",
    "\n",
    "# ARIMA vs Holts-Winters model performance - predicting next day's stock prices\n",
    "\n",
    "history = [x for x in Open_prices_train]\n",
    "history_holts = [x for x in Open_prices_train]\n",
    "predictions = list()\n",
    "predictions_holts=list()\n",
    "\n",
    "# Rolling forecasting using ARIMA and Holts-Winters (next day's prices)\n",
    "for t in range(n_train,len(Open_prices)):\n",
    "    \n",
    "    #ARIMA Model\n",
    "    model = ARIMA(history, order=(p,1,q))   \n",
    "    model_fit = model.fit()                \n",
    "    output = model_fit.forecast()           \n",
    "    yhat = output[0]\n",
    "    predictions.append(yhat)\n",
    "    obs = Open_prices_test[t]\n",
    "    history.append(obs)\n",
    "    print('ARIMA: predicted=%f, expected=%f' % (yhat, obs))\n",
    "    \n",
    "    # Holts-Winters Triple Exponential Smoothing\n",
    "    #model_holts = ExponentialSmoothing(history_holts, trend=\"add\", seasonal=\"add\",  seasonal_periods=260).fit()  #Holts winters model\n",
    "   \n",
    "    # Holts-Winters Simple Exponential Smoothing Model\n",
    "    model_holts = SimpleExpSmoothing(history_holts).fit()  #Holts winters model\n",
    "    output_holts = model_holts.forecast() \n",
    "    yhat_holts = output_holts[0]\n",
    "    predictions_holts.append(yhat_holts)\n",
    "    history_holts.append(obs) \n",
    "    print('Holts Winters: predicted=%f, expected=%f' % (yhat_holts, obs))\n",
    "    \n",
    "    \n",
    "#Computing sign accuracy of ARIMA and Holts-Winters models\n",
    "i=1\n",
    "returns_num_ARIMA=0\n",
    "returns_num_Holts=0\n",
    "returns_tot=0\n",
    "while i<=len(predictions)-1:\n",
    "    returns_predictions_ARIMA=predictions[i]-predictions[i-1]\n",
    "    returns_predictions_holts=predictions_holts[i]-predictions_holts[i-1]\n",
    "    index_next=len(Open_prices)-len(predictions)+i\n",
    "    index_previous=len(Open_prices)-len(predictions)+i-1\n",
    "    returns_actual=Open_prices_test[index_next]-Open_prices_test[index_previous]\n",
    "    if np.sign(returns_predictions_ARIMA)==np.sign(returns_actual):\n",
    "        returns_num_ARIMA+=1\n",
    "    if np.sign(returns_predictions_Holts)==np.sign(returns_actual):\n",
    "        returns_num_Holts+=1\n",
    "    returns_tot+=1\n",
    "    i+=1\n",
    "        \n",
    "print('Sign accuracy (ARIMA) for next day prices:', returns_num_ARIMA/returns_tot)\n",
    "print('Sign accuracy (Holts-Winters) for next day prices:', returns_num_Holts/returns_tot)\n",
    "\n",
    "\n",
    "# Evaluating performance of ARIMA model\n",
    "rmse = np.sqrt(mean_squared_error(Open_prices_test, predictions))\n",
    "print('ARIMA: Test RMSE: %.3f' % rmse)\n",
    "\n",
    "# Evaluating performance of Holts-Winters model\n",
    "rmse = np.sqrt(mean_squared_error(Open_prices_test, predictions_holts))\n",
    "print('Holts-Winters: Test RMSE: %.3f' % rmse)\n",
    "\n",
    "# Plot forecasts against actual test data prices (with ARIMA and Holts-Winters)\n",
    "days_range=[day for day in range(n_train,len(Open_prices))]\n",
    "line_up, =plt.plot(Open_prices_test, label='Actual')\n",
    "line_down, =plt.plot(days_range, predictions, color='red', label='Predicted (ARIMA)')\n",
    "line_mid, =plt.plot(days_range, predictions_holts, color='green', label='Predicted (Holts-Winters)')\n",
    "plt.legend(handles=[line_up, line_down, line_mid])\n",
    "plt.title('Amazon stock market price')\n",
    "plt.xlabel('Days')\n",
    "plt.ylabel('Stock price') \n",
    "plt.show()"
   ]
  },
  {
   "cell_type": "code",
   "execution_count": 67,
   "metadata": {
    "scrolled": false
   },
   "outputs": [
    {
     "name": "stdout",
     "output_type": "stream",
     "text": [
      "1023    1368.000000\n",
      "1024    1392.010010\n",
      "1025    1409.180054\n",
      "1026    1403.170044\n",
      "1027    1451.300049\n",
      "           ...     \n",
      "1274    1670.500000\n",
      "1275    1643.589966\n",
      "1276    1631.270020\n",
      "1277    1623.000000\n",
      "1278    1692.849976\n",
      "Name: Open, Length: 256, dtype: float64\n",
      "256\n",
      "1279\n",
      "1024 1023\n",
      "1025 1024\n",
      "1026 1025\n",
      "1027 1026\n",
      "1028 1027\n",
      "1029 1028\n",
      "1030 1029\n",
      "1031 1030\n",
      "1032 1031\n",
      "1033 1032\n",
      "1034 1033\n",
      "1035 1034\n",
      "1036 1035\n",
      "1037 1036\n",
      "1038 1037\n",
      "1039 1038\n",
      "1040 1039\n",
      "1041 1040\n",
      "1042 1041\n",
      "1043 1042\n",
      "1044 1043\n",
      "1045 1044\n",
      "1046 1045\n",
      "1047 1046\n",
      "1048 1047\n",
      "1049 1048\n",
      "1050 1049\n",
      "1051 1050\n",
      "1052 1051\n",
      "1053 1052\n",
      "1054 1053\n",
      "1055 1054\n",
      "1056 1055\n",
      "1057 1056\n",
      "1058 1057\n",
      "1059 1058\n",
      "1060 1059\n",
      "1061 1060\n",
      "1062 1061\n",
      "1063 1062\n",
      "1064 1063\n",
      "1065 1064\n",
      "1066 1065\n",
      "1067 1066\n",
      "1068 1067\n",
      "1069 1068\n",
      "1070 1069\n",
      "1071 1070\n",
      "1072 1071\n",
      "1073 1072\n",
      "1074 1073\n",
      "1075 1074\n",
      "1076 1075\n",
      "1077 1076\n",
      "1078 1077\n",
      "1079 1078\n",
      "1080 1079\n",
      "1081 1080\n",
      "1082 1081\n",
      "1083 1082\n",
      "1084 1083\n",
      "1085 1084\n",
      "1086 1085\n",
      "1087 1086\n",
      "1088 1087\n",
      "1089 1088\n",
      "1090 1089\n",
      "1091 1090\n",
      "1092 1091\n",
      "1093 1092\n",
      "1094 1093\n",
      "1095 1094\n",
      "1096 1095\n",
      "1097 1096\n",
      "1098 1097\n",
      "1099 1098\n",
      "1100 1099\n",
      "1101 1100\n",
      "1102 1101\n",
      "1103 1102\n",
      "1104 1103\n",
      "1105 1104\n",
      "1106 1105\n",
      "1107 1106\n",
      "1108 1107\n",
      "1109 1108\n",
      "1110 1109\n",
      "1111 1110\n",
      "1112 1111\n",
      "1113 1112\n",
      "1114 1113\n",
      "1115 1114\n",
      "1116 1115\n",
      "1117 1116\n",
      "1118 1117\n",
      "1119 1118\n",
      "1120 1119\n",
      "1121 1120\n",
      "1122 1121\n",
      "1123 1122\n",
      "1124 1123\n",
      "1125 1124\n",
      "1126 1125\n",
      "1127 1126\n",
      "1128 1127\n",
      "1129 1128\n",
      "1130 1129\n",
      "1131 1130\n",
      "1132 1131\n",
      "1133 1132\n",
      "1134 1133\n",
      "1135 1134\n",
      "1136 1135\n",
      "1137 1136\n",
      "1138 1137\n",
      "1139 1138\n",
      "1140 1139\n",
      "1141 1140\n",
      "1142 1141\n",
      "1143 1142\n",
      "1144 1143\n",
      "1145 1144\n",
      "1146 1145\n",
      "1147 1146\n",
      "1148 1147\n",
      "1149 1148\n",
      "1150 1149\n",
      "1151 1150\n",
      "1152 1151\n",
      "1153 1152\n",
      "1154 1153\n",
      "1155 1154\n",
      "1156 1155\n",
      "1157 1156\n",
      "1158 1157\n",
      "1159 1158\n",
      "1160 1159\n",
      "1161 1160\n",
      "1162 1161\n",
      "1163 1162\n",
      "1164 1163\n",
      "1165 1164\n",
      "1166 1165\n",
      "1167 1166\n",
      "1168 1167\n",
      "1169 1168\n",
      "1170 1169\n",
      "1171 1170\n",
      "1172 1171\n",
      "1173 1172\n",
      "1174 1173\n",
      "1175 1174\n",
      "1176 1175\n",
      "1177 1176\n",
      "1178 1177\n",
      "1179 1178\n",
      "1180 1179\n",
      "1181 1180\n",
      "1182 1181\n",
      "1183 1182\n",
      "1184 1183\n",
      "1185 1184\n",
      "1186 1185\n",
      "1187 1186\n",
      "1188 1187\n",
      "1189 1188\n",
      "1190 1189\n",
      "1191 1190\n",
      "1192 1191\n",
      "1193 1192\n",
      "1194 1193\n",
      "1195 1194\n",
      "1196 1195\n",
      "1197 1196\n",
      "1198 1197\n",
      "1199 1198\n",
      "1200 1199\n",
      "1201 1200\n",
      "1202 1201\n",
      "1203 1202\n",
      "1204 1203\n",
      "1205 1204\n",
      "1206 1205\n",
      "1207 1206\n",
      "1208 1207\n",
      "1209 1208\n",
      "1210 1209\n",
      "1211 1210\n",
      "1212 1211\n",
      "1213 1212\n",
      "1214 1213\n",
      "1215 1214\n",
      "1216 1215\n",
      "1217 1216\n",
      "1218 1217\n",
      "1219 1218\n",
      "1220 1219\n",
      "1221 1220\n",
      "1222 1221\n",
      "1223 1222\n",
      "1224 1223\n",
      "1225 1224\n",
      "1226 1225\n",
      "1227 1226\n",
      "1228 1227\n",
      "1229 1228\n",
      "1230 1229\n",
      "1231 1230\n",
      "1232 1231\n",
      "1233 1232\n",
      "1234 1233\n",
      "1235 1234\n",
      "1236 1235\n",
      "1237 1236\n",
      "1238 1237\n",
      "1239 1238\n",
      "1240 1239\n",
      "1241 1240\n",
      "1242 1241\n",
      "1243 1242\n",
      "1244 1243\n",
      "1245 1244\n",
      "1246 1245\n",
      "1247 1246\n",
      "1248 1247\n",
      "1249 1248\n",
      "1250 1249\n",
      "1251 1250\n",
      "1252 1251\n",
      "1253 1252\n",
      "1254 1253\n",
      "1255 1254\n",
      "1256 1255\n",
      "1257 1256\n",
      "1258 1257\n",
      "1259 1258\n",
      "1260 1259\n",
      "1261 1260\n",
      "1262 1261\n",
      "1263 1262\n",
      "1264 1263\n",
      "1265 1264\n",
      "1266 1265\n",
      "1267 1266\n",
      "1268 1267\n",
      "1269 1268\n",
      "1270 1269\n",
      "1271 1270\n",
      "1272 1271\n",
      "1273 1272\n",
      "1274 1273\n",
      "1275 1274\n",
      "1276 1275\n",
      "1277 1276\n",
      "1278 1277\n",
      "Sign accuracy (ARIMA): 0.5137254901960784\n",
      "Sign accuracy (Holts-Winters): 0.5098039215686274\n",
      "ARIMA: Test RMSE: 53.571\n",
      "Holts-Winters: Test RMSE: 53.451\n"
     ]
    },
    {
     "data": {
      "image/png": "[encoded data removed]",
      "text/plain": [
       "<Figure size 432x288 with 1 Axes>"
      ]
     },
     "metadata": {
      "needs_background": "light"
     },
     "output_type": "display_data"
    }
   ],
   "source": [
    "#ARIMA forecasting model - two days ahead stock market price prediction\n",
    "\n",
    "q=2 #MA model order\n",
    "p=2   #AR model order\n",
    "\n",
    "# Train-test data split\n",
    "n_train=int(0.8*len(Open_prices))\n",
    "n_end=len(Open_prices)+1\n",
    "Open_prices_train=Open_prices.iloc[1:n_train]\n",
    "Open_prices_test=Open_prices.iloc[n_train:n_end]\n",
    "\n",
    "\n",
    "# ARIMA vs Holts-Winters model performance - predicting two days' ahead stock prices\n",
    "history = [x for x in Open_prices_train]\n",
    "history.pop() # deleting history's last data point as this is not needed to obtain two days ahead prediction\n",
    "predictions = list()\n",
    "predictions_Holts=list()\n",
    "    \n",
    "#ARIMA Model (obtaining first prediction using only history data)\n",
    "history_rolling=history\n",
    "model_1 = ARIMA(history_rolling, order=(p,1,q))  \n",
    "model_fit_1 = model_1.fit()                \n",
    "output_1 = model_fit_1.forecast()           \n",
    "yhat_1= output_1[0]\n",
    "history_rolling.append(yhat_1)      # add one day's ahead prediction to history data in order to predict second day's\n",
    "model_2 = ARIMA(history_rolling, order=(p,1,q))  \n",
    "model_fit_2 = model_2.fit()                \n",
    "output_2 = model_fit_2.forecast() \n",
    "yhat_2= output_2[0]\n",
    "predictions.append(yhat_2)\n",
    "print('ARIMA: predicted=%f, expected=%f' % (yhat_2, obs))\n",
    "history_rolling=[]\n",
    "\n",
    "\n",
    "#Holts-Winters Model (obtaining first prediction using only history data)\n",
    "history_rolling_Holts=history\n",
    "model_holts_1 = SimpleExpSmoothing(history_rolling_Holts).fit()  #Holts winters model\n",
    "output_1_Holts =  model_holts_1.forecast()           \n",
    "yhat_1_Holts= output_1_Holts[0]\n",
    "history_rolling_Holts.append(yhat_1_Holts)    # add one day's ahead prediction to history data in order to predict second day's\n",
    "model_holts_2 = SimpleExpSmoothing(history_rolling_Holts).fit()  #Holts winters model\n",
    "output_2_Holts = model_holts_2.forecast() \n",
    "yhat_2_Holts= output_2_Holts[0]\n",
    "predictions_Holts.append(yhat_2_Holts)\n",
    "print('Holts-Winters: predicted=%f, expected=%f' % (yhat_2_Holts, obs))\n",
    "history_rolling_Holts=[]\n",
    "\n",
    "\n",
    "# redefining history so that it contains all training data\n",
    "history = [x for x in Open_prices_train]\n",
    "\n",
    "\n",
    "# Rolling forecasting using ARIMA and Holts-Winters (Two days ahead prices)\n",
    "for t in range(n_train,len(Open_prices)):\n",
    "    \n",
    "    #ARIMA Model\n",
    "    history_rolling=history\n",
    "    model_1 = ARIMA(history_rolling, order=(p,1,q))  \n",
    "    model_fit_1 = model_1.fit()                \n",
    "    output_1 = model_fit_1.forecast()           \n",
    "    yhat_1= output_1[0]\n",
    "    history_rolling.append(yhat_1)\n",
    "    model_2 = ARIMA(history_rolling, order=(p,1,q))  \n",
    "    model_fit_2 = model_2.fit()                \n",
    "    output_2 = model_fit_2.forecast() \n",
    "    yhat_2= output_2[0]\n",
    "    predictions.append(yhat_2)\n",
    "    history_rolling=[]  \n",
    "    print('ARIMA: predicted=%f, expected=%f' % (yhat_2, obs))\n",
    "    \n",
    "   # Holts-Winters Triple Exponential Smoothing\n",
    "   # model_holts = ExponentialSmoothing(history_holts, trend=\"add\", seasonal=\"add\",  seasonal_periods=260).fit()  #Holts winters model\n",
    "   \n",
    "   # Holts-Winters Simple Exponential Smoothing Model\n",
    "    history_rolling_Holts=history\n",
    "    model_holts_1 = SimpleExpSmoothing(history_rolling_Holts).fit()  #Holts winters model\n",
    "    output_1_Holts =  model_holts_1.forecast()           \n",
    "    yhat_1_Holts= output_1_Holts[0]\n",
    "    history_rolling_Holts.append(yhat_1_Holts)\n",
    "    model_holts_2 = SimpleExpSmoothing(history_rolling_Holts).fit()  #Holts winters model\n",
    "    output_2_Holts = model_holts_2.forecast() \n",
    "    yhat_2_Holts= output_2_Holts[0]\n",
    "    predictions_Holts.append(yhat_2_Holts)\n",
    "    history_rolling_Holts=[]\n",
    "    print('Holts-Winters: predicted=%f, expected=%f' % (yhat_2_Holts, obs))\n",
    "\n",
    "    # Appending history using a new data point from test data in order to obtain new forecast in next iteration\n",
    "    obs = Open_prices_test[t]\n",
    "    history.append(obs)\n",
    "    \n",
    "\n",
    "\n",
    "# Evaluating performance of ARIMA model\n",
    "predictions.pop()        #so that predictions with ARIMA equal number of points in test data\n",
    "predictions_Holts.pop()  #so that predictions with Holts-Winters equal number of points in test data\n",
    "\n",
    "\n",
    "#Computing sign accuracy of ARIMA and Holts-Winters models\n",
    "i=1\n",
    "returns_num_ARIMA=0\n",
    "returns_num_Holts=0\n",
    "returns_tot=0\n",
    "while i<=len(predictions)-1:\n",
    "    returns_predictions_ARIMA=predictions[i]-predictions[i-1]\n",
    "    returns_predictions_Holts=predictions_Holts[i]-predictions_Holts[i-1]\n",
    "    index_next=len(Open_prices)-len(predictions)+i\n",
    "    index_previous=len(Open_prices)-len(predictions)+i-1\n",
    "    returns_actual=Open_prices_test[index_next]-Open_prices_test[index_previous]\n",
    "    if np.sign(returns_predictions_ARIMA)==np.sign(returns_actual):\n",
    "        returns_num_ARIMA+=1\n",
    "    if np.sign(returns_predictions_Holts)==np.sign(returns_actual):\n",
    "        returns_num_Holts+=1\n",
    "    returns_tot+=1\n",
    "    i+=1\n",
    "        \n",
    "print('Sign accuracy (ARIMA) for two days ahead prices:', returns_num_ARIMA/returns_tot)\n",
    "print('Sign accuracy (Holts-Winters) for two days ahead prices:', returns_num_Holts/returns_tot)\n",
    "\n",
    "\n",
    "rmse = np.sqrt(mean_squared_error(Open_prices_test, predictions))\n",
    "print('ARIMA: Test RMSE: %.3f' % rmse)\n",
    "\n",
    "# Evaluating performance of Holts-Winters model\n",
    "rmse = np.sqrt(mean_squared_error(Open_prices_test, predictions_Holts))\n",
    "print('Holts-Winters: Test RMSE: %.3f' % rmse)\n",
    "\n",
    "# Plot forecasts against actual test data prices (with ARIMA and Holts-Winters)\n",
    "days_range=[day for day in range(n_train,len(Open_prices))]\n",
    "line_up, =plt.plot(Open_prices_test, label='Actual')\n",
    "line_down, =plt.plot(days_range, predictions, color='red', label='Predicted (ARIMA)')\n",
    "line_mid, =plt.plot(days_range, predictions_Holts, color='green', label='Predicted (Holts-Winters)')\n",
    "plt.legend(handles=[line_up, line_down, line_mid])\n",
    "plt.title('Amazon stock market price')\n",
    "plt.xlabel('Days')\n",
    "plt.ylabel('Stock price') \n",
    "plt.show()"
   ]
  },
  {
   "cell_type": "code",
   "execution_count": null,
   "metadata": {},
   "outputs": [],
   "source": []
  }
 ],
 "metadata": {
  "kernelspec": {
   "display_name": "Python 3",
   "language": "python",
   "name": "python3"
  },
  "language_info": {
   "codemirror_mode": {
    "name": "ipython",
    "version": 3
   },
   "file_extension": ".py",
   "mimetype": "text/x-python",
   "name": "python",
   "nbconvert_exporter": "python",
   "pygments_lexer": "ipython3",
   "version": "3.8.8"
  }
 },
 "nbformat": 4,
 "nbformat_minor": 4
}
